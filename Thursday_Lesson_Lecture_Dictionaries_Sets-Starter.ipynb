{
 "cells": [
  {
   "cell_type": "markdown",
   "metadata": {},
   "source": [
    "## Data Collections 2 (Dictionaries, Sets)"
   ]
  },
  {
   "cell_type": "markdown",
   "metadata": {},
   "source": [
    "## Tasks Today:\n",
    "1) Warm Up\n",
    "2) Dictionary <br>\n",
    " &nbsp;&nbsp;&nbsp;&nbsp; a) Declaring (key, value) <br>\n",
    " &nbsp;&nbsp;&nbsp;&nbsp; b) Accessing Values <br>\n",
    " &nbsp;&nbsp;&nbsp;&nbsp; ------ Exercise #1 - Create book dictionary and access values <br>\n",
    " &nbsp;&nbsp;&nbsp;&nbsp; c) Adding New Pairs <br>\n",
    " &nbsp;&nbsp;&nbsp;&nbsp; d) Modifying Values <br>\n",
    " &nbsp;&nbsp;&nbsp;&nbsp; e) Removing Key, Value Pairs <br>\n",
    " &nbsp;&nbsp;&nbsp;&nbsp; f) Looping a Dictionary <br>\n",
    " &nbsp;&nbsp;&nbsp;&nbsp; g) Looping Only Keys <br>\n",
    " &nbsp;&nbsp;&nbsp;&nbsp; h) Looping Only Values <br>\n",
    " &nbsp;&nbsp;&nbsp;&nbsp; ------ Exercise #2 - Modifying and Looping Dictionaries  <br>\n",
    " &nbsp;&nbsp;&nbsp;&nbsp; i) Lists with Dictionaries <br>\n",
    " &nbsp;&nbsp;&nbsp;&nbsp; j) Dictionaries with Lists <br>\n",
    " &nbsp;&nbsp;&nbsp;&nbsp; k) Dictionaries with Dictionaries <br>\n",
    "3) Dictionaries vs. Lists (over time)<br>\n",
    "4) Set <br>\n",
    " &nbsp;&nbsp;&nbsp;&nbsp; a) Declaring <br>\n",
    " &nbsp;&nbsp;&nbsp;&nbsp; b) .add() <br>\n",
    " &nbsp;&nbsp;&nbsp;&nbsp; c) .remove() <br>\n",
    " &nbsp;&nbsp;&nbsp;&nbsp; d) .union() <br>\n",
    " &nbsp;&nbsp;&nbsp;&nbsp; e) .intersection() <br>\n",
    " &nbsp;&nbsp;&nbsp;&nbsp; f) .difference() <br>\n",
    " &nbsp;&nbsp;&nbsp;&nbsp; g) .clear() <br>\n",
    "5) Frozenset <br>\n",
    " &nbsp;&nbsp;&nbsp;&nbsp; a) Declaring <br>\n",
    "6) Exercises <br>\n",
    " &nbsp;&nbsp;&nbsp;&nbsp; a) Address Book Program <br>\n",
    " &nbsp;&nbsp;&nbsp;&nbsp; b) Best Times to Meet <br>"
   ]
  },
  {
   "cell_type": "markdown",
   "metadata": {},
   "source": [
    "#### Warm Up"
   ]
  },
  {
   "cell_type": "markdown",
   "metadata": {},
   "source": [
    "Given the list `address_book`, create a function that accepts a name (first or last or both) and returns the phone number of that name in the `address_book`. If the name is not in `address_book`, return -1.<br>\n",
    "\n",
    "Ex. 1<br>\n",
    "name = 'Hank'<br>\n",
    "Expected Output: '(555) 555-1234'<br>\n",
    "\n",
    "Ex. 2<br>\n",
    "name = 'Tevin'<br>\n",
    "Expected Output: '(333) 333-3245'<br>\n",
    "\n",
    "Ex. 3<br>\n",
    "name = 'Brian'<br>\n",
    "Expected Output: -1<br>"
   ]
  },
  {
   "cell_type": "code",
   "execution_count": null,
   "metadata": {},
   "outputs": [],
   "source": [
    "address_book = [\n",
    "    ('Hank', 'Mardukas', '123 Real Street', '(555) 555-1234'),\n",
    "    ('Peter', 'Klaven', '321 Fake Street', '(555) 555-4321'),\n",
    "    ('Sydney', 'Fife', '555 Santa Monica Drive', '(222) 222-6789'),\n",
    "    ('Tevin', 'Downey', '100 Rodeo Blvd', '(333) 333-3245')\n",
    "]\n",
    "\n",
    "\n",
    "\n",
    "        \n"
   ]
  },
  {
   "cell_type": "code",
   "execution_count": null,
   "metadata": {
    "scrolled": true
   },
   "outputs": [],
   "source": [
    "def give_phone(name, add_book):\n",
    "    for i in add_book:\n",
    "        if i[0] in name or i[1] in name:\n",
    "            return i[3]\n",
    "    return -1\n",
    "        \n",
    "#         elif i[0] in name.split() and i[1] in name.split():\n",
    "#             return i[3]"
   ]
  },
  {
   "cell_type": "code",
   "execution_count": null,
   "metadata": {},
   "outputs": [],
   "source": [
    "print(give_phone('Brian', address_book))"
   ]
  },
  {
   "cell_type": "code",
   "execution_count": null,
   "metadata": {},
   "outputs": [],
   "source": [
    "print(give_phone('Tevin', address_book))"
   ]
  },
  {
   "cell_type": "code",
   "execution_count": null,
   "metadata": {},
   "outputs": [],
   "source": [
    "print(give_phone('Hank', address_book))"
   ]
  },
  {
   "cell_type": "code",
   "execution_count": null,
   "metadata": {},
   "outputs": [],
   "source": [
    "print(give_phone('Sydney Fife', address_book))"
   ]
  },
  {
   "cell_type": "markdown",
   "metadata": {},
   "source": [
    "## Dictionary <br>\n",
    "<p>A collection of data with 'key:value' pairs. Dictionaries are \"ordered\" as of Python 3.6</p>"
   ]
  },
  {
   "cell_type": "markdown",
   "metadata": {},
   "source": [
    "##### Declaring (key, value)"
   ]
  },
  {
   "cell_type": "code",
   "execution_count": null,
   "metadata": {},
   "outputs": [],
   "source": [
    "# Syntax: a_dict = {} or a_dict = dict() or a_dict = {'key': value, ...} or a_dict = dict(key=value)\n",
    "d1 = {}\n",
    "print(d1)\n",
    "print(type(d1))\n",
    "\n",
    "d2 = dict()\n",
    "print(d2)\n",
    "print(type(d2))"
   ]
  },
  {
   "cell_type": "code",
   "execution_count": null,
   "metadata": {},
   "outputs": [],
   "source": [
    "d3 = {\n",
    "    'Hank': '123 Real Street',\n",
    "    'Peter': '321 Fake Street',\n",
    "    'Sydney': '555 Santa Monica Blvd',\n",
    "    'Tevin': '100 Rodeo Drive'\n",
    "}\n",
    "\n",
    "print(d3)\n",
    "print(type(d3))"
   ]
  },
  {
   "cell_type": "code",
   "execution_count": null,
   "metadata": {},
   "outputs": [],
   "source": [
    "d4 = dict(name='Brian', age=44, city='Chicago')\n",
    "print(d4)\n",
    "print(type(d4))"
   ]
  },
  {
   "cell_type": "markdown",
   "metadata": {},
   "source": [
    "##### Accessing Values"
   ]
  },
  {
   "cell_type": "code",
   "execution_count": null,
   "metadata": {},
   "outputs": [],
   "source": [
    "a_list = ['Hank', 'Peter', 'Sydney', 'Tevin']\n",
    "\n",
    "print(a_list[3])"
   ]
  },
  {
   "cell_type": "code",
   "execution_count": null,
   "metadata": {},
   "outputs": [],
   "source": [
    "# dict[key]\n",
    "print(d3['Hank'])"
   ]
  },
  {
   "cell_type": "code",
   "execution_count": null,
   "metadata": {},
   "outputs": [],
   "source": [
    "print(d3['Sydney'])"
   ]
  },
  {
   "cell_type": "code",
   "execution_count": null,
   "metadata": {},
   "outputs": [],
   "source": [
    "print(d3['Brian'])"
   ]
  },
  {
   "cell_type": "markdown",
   "metadata": {},
   "source": [
    "##### .get()"
   ]
  },
  {
   "cell_type": "code",
   "execution_count": null,
   "metadata": {},
   "outputs": [],
   "source": [
    "help(dict.get)"
   ]
  },
  {
   "cell_type": "code",
   "execution_count": null,
   "metadata": {},
   "outputs": [],
   "source": [
    "# dict.get('key') or dict.get('key', value_if_no_key)\n",
    "print(d3.get('Peter'))\n",
    "print(d3.get('Sarah'))\n",
    "print(d3.get('Sarah', 'No Address Available'))"
   ]
  },
  {
   "cell_type": "markdown",
   "metadata": {},
   "source": [
    "## In-Class Exercise #1\n",
    "Create a dictionary called `favorite_book` that has keys `title`, `author`, `genre`, and `rating` (number out of 100). Then create a variable called `statement` that is a formatted string saying \"My favorite book is `title` by `author` which I would give a `rating` out of 100\""
   ]
  },
  {
   "cell_type": "code",
   "execution_count": null,
   "metadata": {},
   "outputs": [],
   "source": [
    "favorite_book = {\n",
    "    'title': 'The Dark Tower',\n",
    "    'author': 'Stephen King',\n",
    "    'genre': 'Fantasy/Western',\n",
    "    'rating': 99.9995\n",
    "}\n",
    "\n",
    "statement = f\"My favorite book is {favorite_book['title']} by {favorite_book['author']} which I would give a {favorite_book['rating']} out of 100.\"\n",
    "\n",
    "print(statement)\n"
   ]
  },
  {
   "cell_type": "markdown",
   "metadata": {},
   "source": [
    "##### Adding New Pairs"
   ]
  },
  {
   "cell_type": "code",
   "execution_count": null,
   "metadata": {},
   "outputs": [],
   "source": [
    "d3"
   ]
  },
  {
   "cell_type": "code",
   "execution_count": null,
   "metadata": {},
   "outputs": [],
   "source": [
    "# dict[key] = value\n",
    "d3['Zoey'] = '456 Main Street'\n",
    "d3"
   ]
  },
  {
   "cell_type": "markdown",
   "metadata": {},
   "source": [
    "##### Modifying Values"
   ]
  },
  {
   "cell_type": "code",
   "execution_count": null,
   "metadata": {},
   "outputs": [],
   "source": [
    "# dict[key] = value\n",
    "d3['Zoey'] = '654 2nd Street'\n",
    "d3"
   ]
  },
  {
   "cell_type": "markdown",
   "metadata": {},
   "source": [
    "##### Removing Key, Value Pairs"
   ]
  },
  {
   "cell_type": "code",
   "execution_count": null,
   "metadata": {},
   "outputs": [],
   "source": [
    "# del dict[key]\n",
    "d3"
   ]
  },
  {
   "cell_type": "code",
   "execution_count": null,
   "metadata": {},
   "outputs": [],
   "source": [
    "del d3['Tevin']\n",
    "d3"
   ]
  },
  {
   "cell_type": "code",
   "execution_count": null,
   "metadata": {},
   "outputs": [],
   "source": []
  },
  {
   "cell_type": "code",
   "execution_count": null,
   "metadata": {},
   "outputs": [],
   "source": [
    "# dict.pop('key') - remove key,value pair - returns value back to caller\n",
    "help(dict.pop)"
   ]
  },
  {
   "cell_type": "code",
   "execution_count": null,
   "metadata": {},
   "outputs": [],
   "source": [
    "removed_value = d3.pop('Zoey')\n",
    "\n",
    "print(d3)\n",
    "\n",
    "print(removed_value)"
   ]
  },
  {
   "cell_type": "code",
   "execution_count": null,
   "metadata": {},
   "outputs": [],
   "source": [
    "# If the key is not in the dictionary, you can add a second argument for the default return value\n",
    "removed_value = d3.pop('Zoey', 'Not in dictionary')\n",
    "\n",
    "print(d3)\n",
    "\n",
    "print(removed_value)"
   ]
  },
  {
   "cell_type": "markdown",
   "metadata": {},
   "source": [
    "##### Looping a Dictionary"
   ]
  },
  {
   "cell_type": "code",
   "execution_count": null,
   "metadata": {},
   "outputs": [],
   "source": [
    "help(dict.items)"
   ]
  },
  {
   "cell_type": "code",
   "execution_count": null,
   "metadata": {},
   "outputs": [],
   "source": [
    "# .items()\n",
    "print(d3)\n",
    "print(d3.items())"
   ]
  },
  {
   "cell_type": "code",
   "execution_count": null,
   "metadata": {
    "scrolled": true
   },
   "outputs": [],
   "source": [
    "for item in d3.items():\n",
    "    print(item, type(item))"
   ]
  },
  {
   "cell_type": "code",
   "execution_count": null,
   "metadata": {
    "scrolled": true
   },
   "outputs": [],
   "source": [
    "for name, address in d3.items():\n",
    "    print(f\"Key: {name}  address: {address}\")"
   ]
  },
  {
   "cell_type": "markdown",
   "metadata": {},
   "source": [
    "##### Looping Only Keys"
   ]
  },
  {
   "cell_type": "code",
   "execution_count": null,
   "metadata": {},
   "outputs": [],
   "source": [
    "help(dict.keys)"
   ]
  },
  {
   "cell_type": "code",
   "execution_count": null,
   "metadata": {},
   "outputs": [],
   "source": [
    "# .keys()\n",
    "print(d3.keys())"
   ]
  },
  {
   "cell_type": "code",
   "execution_count": null,
   "metadata": {},
   "outputs": [],
   "source": [
    "for key in d3.keys():\n",
    "    print(key)"
   ]
  },
  {
   "cell_type": "code",
   "execution_count": null,
   "metadata": {},
   "outputs": [],
   "source": [
    "# Looping over a dictionary, it will loop through only the keys\n",
    "for item in d3:\n",
    "    print(item)"
   ]
  },
  {
   "cell_type": "code",
   "execution_count": null,
   "metadata": {},
   "outputs": [],
   "source": [
    "# you can ALWAYS access the value in a dictionary from its key\n",
    "for k in d3:\n",
    "    print(k, d3[k])"
   ]
  },
  {
   "cell_type": "markdown",
   "metadata": {},
   "source": [
    "##### Looping Only Values"
   ]
  },
  {
   "cell_type": "code",
   "execution_count": null,
   "metadata": {},
   "outputs": [],
   "source": [
    "help(dict.values)"
   ]
  },
  {
   "cell_type": "code",
   "execution_count": null,
   "metadata": {},
   "outputs": [],
   "source": [
    "# .values()\n",
    "print(d3.values())"
   ]
  },
  {
   "cell_type": "code",
   "execution_count": null,
   "metadata": {},
   "outputs": [],
   "source": [
    "for val in d3.values():\n",
    "    print(val)"
   ]
  },
  {
   "cell_type": "code",
   "execution_count": null,
   "metadata": {},
   "outputs": [],
   "source": [
    "# While you can always access a value from the key, doing the opposite is not so easy\n",
    "value = '123 Real Street'\n",
    "\n",
    "for key, val in d3.items():\n",
    "    if val == value:\n",
    "        print(key)"
   ]
  },
  {
   "cell_type": "code",
   "execution_count": null,
   "metadata": {},
   "outputs": [],
   "source": []
  },
  {
   "cell_type": "code",
   "execution_count": null,
   "metadata": {},
   "outputs": [],
   "source": []
  },
  {
   "cell_type": "markdown",
   "metadata": {},
   "source": [
    "## In-Class Exercise #2\n",
    "Modify your `favorite_book` dictionary from Exercise 1. Change the `rating` to a string with a grade rating ('B+' instead of 88). After you update, loop through the dictionary and log each key value pair in the format of `Key: Value`"
   ]
  },
  {
   "cell_type": "code",
   "execution_count": null,
   "metadata": {},
   "outputs": [],
   "source": [
    "# Example Output:\n",
    "\n",
    "# Title: The Outsiders\n",
    "# Author: S.E. Hinton\n",
    "# Genre: Coming of Age\n",
    "# Rating: A+"
   ]
  },
  {
   "cell_type": "code",
   "execution_count": null,
   "metadata": {},
   "outputs": [],
   "source": [
    "favorite_book['rating'] = 'A+++'\n",
    "\n",
    "for key, val in favorite_book.items():\n",
    "    print(f\"{key.title()}: {val}\")"
   ]
  },
  {
   "cell_type": "markdown",
   "metadata": {},
   "source": [
    "##### List with Dictionaries"
   ]
  },
  {
   "cell_type": "code",
   "execution_count": null,
   "metadata": {},
   "outputs": [],
   "source": [
    "my_list = [1,2,3, 'hello', 'goodbye', [4, 5, 6], {'a':1, 'b':2, 'c':3}]\n",
    "print(my_list)"
   ]
  },
  {
   "cell_type": "code",
   "execution_count": null,
   "metadata": {},
   "outputs": [],
   "source": [
    "print(my_list[6], type(my_list[6]))\n",
    "print(my_list[6]['b'])\n",
    "print(my_list[6].get('c'))"
   ]
  },
  {
   "cell_type": "code",
   "execution_count": null,
   "metadata": {},
   "outputs": [],
   "source": [
    "# print(my_list['b']) # TypeError: list indices must be integers or slices, not str"
   ]
  },
  {
   "cell_type": "markdown",
   "metadata": {},
   "source": [
    "##### List of Dictionaries"
   ]
  },
  {
   "cell_type": "code",
   "execution_count": null,
   "metadata": {},
   "outputs": [],
   "source": [
    "movies = [\n",
    "    {'title': 'Inception', 'director': 'Christopher Nolan', 'release_year': 2010},\n",
    "    {'title': 'The Social Network', 'director': 'David Fincher', 'release_year': 2010},\n",
    "    {'title': 'Parasite', 'director': 'Bong Joon Ho', 'release_year': 2019},\n",
    "    {'director': 'Martin Scorsese', 'title': 'The Departed'}\n",
    "]\n",
    "\n",
    "print(movies)"
   ]
  },
  {
   "cell_type": "code",
   "execution_count": null,
   "metadata": {},
   "outputs": [],
   "source": [
    "for m in movies:\n",
    "    print(m, type(m))"
   ]
  },
  {
   "cell_type": "code",
   "execution_count": null,
   "metadata": {},
   "outputs": [],
   "source": [
    "for m in movies:\n",
    "    # print(m, type(m))\n",
    "    print(f\"Title: {m.get('title')} - Directed By: {m.get('director')} - {m.get('release_year', 'Unknown Year')}\")"
   ]
  },
  {
   "cell_type": "code",
   "execution_count": null,
   "metadata": {},
   "outputs": [],
   "source": [
    "\n",
    "address_book = [\n",
    "    {'first': 'Hank', 'last': 'Mardukas', 'address': '123 Real Street', 'phone': '(555) 555-1234'},\n",
    "    {'first': 'Sydney', 'last': 'Fife', 'address': '555 Santa Monica Drive', 'phone': '(222) 222-6789'},\n",
    "    {'first': 'Peter', 'last': 'Klaven', 'address': '321 Fake Street', 'phone': '(555) 555-4321'},\n",
    "]\n",
    "\n",
    "\n",
    "def get_phone_number(name):\n",
    "    for person in address_book:\n",
    "        if person.get('first') == name or person.get('last') == name or person.get('first', '') + ' ' + person.get('last', '') == name:\n",
    "            return person.get('phone')\n",
    "    return -1\n",
    "        \n",
    "get_phone_number('Smith')"
   ]
  },
  {
   "cell_type": "markdown",
   "metadata": {},
   "source": [
    "##### Dictionaries with Lists"
   ]
  },
  {
   "cell_type": "code",
   "execution_count": null,
   "metadata": {},
   "outputs": [],
   "source": [
    "# be careful when using numbers as keys in dictionaries, don't confuse them with indexes\n",
    "data = {\n",
    "    'my_list': [10, 20, 30],\n",
    "    0: ['a', 'b', 'c']\n",
    "}\n",
    "\n",
    "print(data)\n",
    "print(data['my_list'])\n",
    "print(data[0]) # this is NOT an index - this is accessing the key 0\n",
    "print(data['my_list'][1])\n",
    "data['my_list'].append(40)\n",
    "print(data)"
   ]
  },
  {
   "cell_type": "markdown",
   "metadata": {},
   "source": [
    "##### Dictionaries with Dictionaries"
   ]
  },
  {
   "cell_type": "code",
   "execution_count": null,
   "metadata": {},
   "outputs": [],
   "source": [
    "# to get values, must traverse through keys\n",
    "\n",
    "my_shoppe = {\n",
    "    'ice_cream': {\n",
    "        'vanilla': 2.99,\n",
    "        'chocolate': 2.99,\n",
    "        'oreo': 3.49\n",
    "    },\n",
    "    'milkshake': {\n",
    "        'vanilla': 3.99,\n",
    "        'chocolate': 3.99,\n",
    "        'oreo': 4.49\n",
    "    }\n",
    "}\n",
    "\n",
    "\n",
    "print(my_shoppe)\n",
    "print(my_shoppe.keys())"
   ]
  },
  {
   "cell_type": "code",
   "execution_count": null,
   "metadata": {},
   "outputs": [],
   "source": []
  },
  {
   "cell_type": "code",
   "execution_count": null,
   "metadata": {},
   "outputs": [],
   "source": [
    "job_app = {\n",
    "    'full_name': 'Jimmy Smith',\n",
    "    'email': 'jsmith@email.com',\n",
    "    'prog_languages': [\n",
    "        {\n",
    "            'name': 'Python',\n",
    "            'proficiency': 8\n",
    "        },\n",
    "        {\n",
    "            'name': 'JavaScript',\n",
    "            'proficiency': 5\n",
    "        }\n",
    "    ],\n",
    "    'experience': [\n",
    "        {\n",
    "            'company': 'Omnicorp',\n",
    "            'position': 'bossman',\n",
    "            'years_at_company': [2010, 2011, 2012, 2013]\n",
    "        },\n",
    "        {\n",
    "            'company': 'AlphaInc',\n",
    "            'position': 'QA',\n",
    "            'years_at_company': [2014, 2015]\n",
    "        }\n",
    "    ],\n",
    "    'us_citizen': True\n",
    "}\n"
   ]
  },
  {
   "cell_type": "code",
   "execution_count": null,
   "metadata": {},
   "outputs": [],
   "source": [
    "# How many years did Jimmy Smith work at AlphaInc?\n",
    "\n",
    "total_ years = len(job_app['experience'][1]['years_at_company'])\n",
    "\n",
    "print(f\"{job_app['full_name']} spent {total_years} years at {job_app['experience'][1]['company']}\")"
   ]
  },
  {
   "cell_type": "code",
   "execution_count": null,
   "metadata": {},
   "outputs": [],
   "source": [
    "import requests"
   ]
  },
  {
   "cell_type": "code",
   "execution_count": null,
   "metadata": {},
   "outputs": [],
   "source": [
    "res = requests.get('https://pokeapi.co/api/v2/pokemon/charizard')\n",
    "data = res.json()"
   ]
  },
  {
   "cell_type": "code",
   "execution_count": null,
   "metadata": {
    "scrolled": true
   },
   "outputs": [],
   "source": [
    "for move in data['moves']:\n",
    "    print(move['move']['name'])"
   ]
  },
  {
   "cell_type": "code",
   "execution_count": null,
   "metadata": {},
   "outputs": [],
   "source": [
    "# List Comprehension\n",
    "# [transform iterable filter]\n",
    "evens = []\n",
    "for num in range(1, 51):\n",
    "    if num % 2 == 0:\n",
    "        evens.append(num)\n",
    "print(evens)\n",
    "\n",
    "evens2 = [num for num in range(1,51) if num % 2 == 0]\n",
    "print(evens2)"
   ]
  },
  {
   "cell_type": "code",
   "execution_count": null,
   "metadata": {},
   "outputs": [],
   "source": [
    "# Dictionary Comprehension\n",
    "# {transform key:vale iterable filter}\n",
    "\n",
    "squared_loop_dict = {}\n",
    "for num in range(1,21):\n",
    "    if num % 2 == 0:\n",
    "        squared_loop_dict[str(num)] = num**2\n",
    "print(squared_loop_dict)"
   ]
  },
  {
   "cell_type": "code",
   "execution_count": null,
   "metadata": {
    "scrolled": true
   },
   "outputs": [],
   "source": [
    "squared_comp_dict = {str(num): num**2 for num in range(1, 21) if num % 2 == 0}\n",
    "print(squared_comp_dict)"
   ]
  },
  {
   "cell_type": "markdown",
   "metadata": {},
   "source": [
    "## Dictionaries vs. Lists (over time) Example of RUNTIME"
   ]
  },
  {
   "cell_type": "code",
   "execution_count": null,
   "metadata": {},
   "outputs": [],
   "source": [
    "small_dictionary = {i: \"value\" for i in range(10)}\n",
    "small_list = [x for x in range(10)]\n",
    "\n",
    "print(small_dictionary)\n",
    "print(small_list)"
   ]
  },
  {
   "cell_type": "code",
   "execution_count": null,
   "metadata": {},
   "outputs": [],
   "source": [
    "import time\n",
    "\n",
    "\n",
    "# generate fake dictionary\n",
    "big_dictionary = {i: 'value' for i in range(10000000)}\n",
    "    \n",
    "\n",
    "# generate fake list\n",
    "big_list = [x for x in range(10000000)]"
   ]
  },
  {
   "cell_type": "code",
   "execution_count": null,
   "metadata": {},
   "outputs": [],
   "source": [
    "time.time()"
   ]
  },
  {
   "cell_type": "code",
   "execution_count": null,
   "metadata": {},
   "outputs": [],
   "source": [
    "# tracking time for set\n",
    "start_time = time.time()\n",
    "\n",
    "print(9999999 in big_dictionary) # Check if the dictionary has the key 9999999\n",
    "\n",
    "end_time = time.time()\n",
    "\n",
    "elapsed_time = end_time - start_time\n",
    "\n",
    "print(f'Elapsed time for dictionary: {elapsed_time}')\n",
    "\n",
    "\n",
    "# tracking time for list\n",
    "start_time = time.time()\n",
    "\n",
    "print(9999999 in big_list) # Check if the value 9999999 is in the list\n",
    "\n",
    "end_time = time.time()\n",
    "\n",
    "elapsed_time = end_time - start_time\n",
    "\n",
    "print(f'Elapsed time for list: {elapsed_time}')"
   ]
  },
  {
   "cell_type": "markdown",
   "metadata": {},
   "source": [
    "## Set <br>\n",
    "<p>A Set is an unordered collection data type that is iterable (loop), mutable, and has no duplicate elements.<br>Major advantage is that it is highly optimized in checking if something is in the set, as opposed to checking if something is in a list.</p>"
   ]
  },
  {
   "cell_type": "markdown",
   "metadata": {},
   "source": [
    "##### Declaring"
   ]
  },
  {
   "cell_type": "code",
   "execution_count": null,
   "metadata": {},
   "outputs": [],
   "source": [
    "# set() or {val,}\n",
    "# no order {3, 2, 1} output as {1, 2, 3}\n",
    "\n",
    "first_set = set() # using set() is the only way to create an empty set\n",
    "print(first_set)\n",
    "print(type(first_set))"
   ]
  },
  {
   "cell_type": "code",
   "execution_count": null,
   "metadata": {},
   "outputs": [],
   "source": [
    "second_set = {3, 1, 5, 56}\n",
    "print(second_set)\n",
    "print(type(second_set))"
   ]
  },
  {
   "cell_type": "code",
   "execution_count": null,
   "metadata": {},
   "outputs": [],
   "source": [
    "empty_set = {} # This will create an empty DICTIONARY!!!\n",
    "print(empty_set)\n",
    "print(type(empty_set))"
   ]
  },
  {
   "cell_type": "code",
   "execution_count": null,
   "metadata": {},
   "outputs": [],
   "source": [
    "third_set = {1, 1, 1, 1, 1, 2, 2, 2, 2, 2, 3, 3, 3, 3, 3, 4, 4, 4, 4, 3, 3, 3, 3, 2, 2, 2, 2, 1, 1, 1}\n",
    "print(third_set)"
   ]
  },
  {
   "cell_type": "code",
   "execution_count": null,
   "metadata": {},
   "outputs": [],
   "source": [
    "# Sets are iterable\n",
    "for element in third_set:\n",
    "    print(element)"
   ]
  },
  {
   "cell_type": "code",
   "execution_count": null,
   "metadata": {},
   "outputs": [],
   "source": [
    "for x in second_set:\n",
    "    print(x)"
   ]
  },
  {
   "cell_type": "markdown",
   "metadata": {},
   "source": [
    "##### .add()"
   ]
  },
  {
   "cell_type": "code",
   "execution_count": null,
   "metadata": {},
   "outputs": [],
   "source": [
    "help(set.add)"
   ]
  },
  {
   "cell_type": "code",
   "execution_count": null,
   "metadata": {},
   "outputs": [],
   "source": [
    "third_set.add(55)\n",
    "print(third_set)"
   ]
  },
  {
   "cell_type": "code",
   "execution_count": null,
   "metadata": {},
   "outputs": [],
   "source": [
    "third_set.add(1)\n",
    "print(third_set)"
   ]
  },
  {
   "cell_type": "markdown",
   "metadata": {},
   "source": [
    "##### .remove()"
   ]
  },
  {
   "cell_type": "code",
   "execution_count": null,
   "metadata": {},
   "outputs": [],
   "source": [
    "help(set.remove)"
   ]
  },
  {
   "cell_type": "code",
   "execution_count": null,
   "metadata": {},
   "outputs": [],
   "source": [
    "third_set.remove(2)\n",
    "print(third_set)"
   ]
  },
  {
   "cell_type": "code",
   "execution_count": null,
   "metadata": {
    "scrolled": true
   },
   "outputs": [],
   "source": [
    "third_set.remove(123) # raises a KeyError\n",
    "print(third_set)"
   ]
  },
  {
   "cell_type": "markdown",
   "metadata": {},
   "source": [
    "##### .union() "
   ]
  },
  {
   "cell_type": "code",
   "execution_count": null,
   "metadata": {},
   "outputs": [],
   "source": [
    "help(set.union)"
   ]
  },
  {
   "cell_type": "code",
   "execution_count": null,
   "metadata": {},
   "outputs": [],
   "source": [
    "# Returns a union of two sets, can also use '|' or set.union(set)\n",
    "# joins all numbers, gets rid of duplicates\n",
    "s1 = {1, 2, 3, 4}\n",
    "s2 = {3, 4, 5, 6}\n",
    "\n",
    "s3 = s1.union(s2)\n",
    "print(s3)\n",
    "\n",
    "# OR\n",
    "\n",
    "s4 = s2 | s1\n",
    "print(s4)"
   ]
  },
  {
   "cell_type": "markdown",
   "metadata": {},
   "source": [
    "##### .intersection()"
   ]
  },
  {
   "cell_type": "code",
   "execution_count": null,
   "metadata": {},
   "outputs": [],
   "source": [
    "help(set.intersection)"
   ]
  },
  {
   "cell_type": "code",
   "execution_count": null,
   "metadata": {
    "scrolled": true
   },
   "outputs": [],
   "source": [
    "# Returns an intersection of two sets, can also use '&'\n",
    "# only takes similar elements from both sets\n",
    "s5 = s1.intersection(s2)\n",
    "print(s5)\n",
    "\n",
    "# OR \n",
    "\n",
    "s6 = s2 & s1\n",
    "print(s6)"
   ]
  },
  {
   "cell_type": "markdown",
   "metadata": {},
   "source": [
    "##### .difference()"
   ]
  },
  {
   "cell_type": "code",
   "execution_count": null,
   "metadata": {},
   "outputs": [],
   "source": [
    "help(set.difference)"
   ]
  },
  {
   "cell_type": "code",
   "execution_count": null,
   "metadata": {},
   "outputs": [],
   "source": [
    "# Returns a set containing all the elements of invoking set that are not in the second set, can also use '-'\n",
    "# only takes values from the first set that are not in the second set\n",
    "# order matters\n",
    "\n",
    "s1 = {1, 2, 3, 4}\n",
    "s2 = {3, 4, 5, 6}\n",
    "\n",
    "\n",
    "s7 = s1.difference(s2)\n",
    "print(s7)\n",
    "\n",
    "s8 = s2.difference(s1)\n",
    "print(s8)\n",
    "\n",
    "# OR\n",
    "\n",
    "s9 = s1 - s2\n",
    "print(s9)\n",
    "\n",
    "s10 = s2 - s1\n",
    "print(s10)"
   ]
  },
  {
   "cell_type": "markdown",
   "metadata": {},
   "source": [
    "##### .clear()"
   ]
  },
  {
   "cell_type": "code",
   "execution_count": null,
   "metadata": {},
   "outputs": [],
   "source": [
    "# Empties the whole set\n",
    "# set.clear()\n",
    "help(set.clear)"
   ]
  },
  {
   "cell_type": "code",
   "execution_count": null,
   "metadata": {},
   "outputs": [],
   "source": [
    "nums = {3, 6, 9, 23, 43, 12, 54}\n",
    "\n",
    "print(nums)\n",
    "\n",
    "nums.clear()\n",
    "\n",
    "print(nums)"
   ]
  },
  {
   "cell_type": "code",
   "execution_count": null,
   "metadata": {},
   "outputs": [],
   "source": [
    "user_input = input('Enter something: ')\n",
    "\n",
    "vowel_count = 0\n",
    "\n",
    "for letter in user_input:\n",
    "    if letter.lower() in {'e', 'o', 'a', 'u', 'i'}:\n",
    "        vowel_count += 1\n",
    "        \n",
    "print(f'There are {vowel_count} vowels in \"{user_input}\"')"
   ]
  },
  {
   "cell_type": "markdown",
   "metadata": {},
   "source": [
    "##### Frozenset <br>\n",
    "<p>Frozen sets are immutable objects that only support methods and operators that produce a result without affecting the frozen set or sets to which they are applied.</p><br><b>Unique & Immutable</b>"
   ]
  },
  {
   "cell_type": "code",
   "execution_count": null,
   "metadata": {},
   "outputs": [],
   "source": [
    "# frozensets:sets :: tuples:lists"
   ]
  },
  {
   "cell_type": "code",
   "execution_count": null,
   "metadata": {},
   "outputs": [],
   "source": [
    "# frozenset([])\n",
    "s3"
   ]
  },
  {
   "cell_type": "code",
   "execution_count": null,
   "metadata": {},
   "outputs": [],
   "source": [
    "my_frozen_set = frozenset(s3)\n",
    "print(my_frozen_set)\n",
    "print(type(my_frozen_set))"
   ]
  },
  {
   "cell_type": "code",
   "execution_count": null,
   "metadata": {
    "scrolled": true
   },
   "outputs": [],
   "source": [
    "help(frozenset)"
   ]
  },
  {
   "cell_type": "code",
   "execution_count": null,
   "metadata": {},
   "outputs": [],
   "source": [
    "my_frozen_set.add(7)"
   ]
  },
  {
   "cell_type": "code",
   "execution_count": null,
   "metadata": {},
   "outputs": [],
   "source": [
    "my_frozen_set.clear()"
   ]
  },
  {
   "cell_type": "code",
   "execution_count": null,
   "metadata": {},
   "outputs": [],
   "source": [
    "# Since frozensets are immutable (i.e. hashable), it can be used as dictionary keys or set values\n",
    "\n",
    "super_cool_dict = {\n",
    "    (1, 2, 3) : 'a',\n",
    "    frozenset({'a', 'b'}): 123\n",
    "}\n",
    "\n",
    "print(super_cool_dict[(1, 2, 3)])\n",
    "print(super_cool_dict.get(frozenset({'a', 'b'})))"
   ]
  },
  {
   "cell_type": "code",
   "execution_count": null,
   "metadata": {},
   "outputs": [],
   "source": [
    "# All set values must be hashable\n",
    "\n",
    "my_set = {1, 2, 3, ('a', 'b')}"
   ]
  },
  {
   "cell_type": "code",
   "execution_count": null,
   "metadata": {},
   "outputs": [],
   "source": []
  },
  {
   "cell_type": "markdown",
   "metadata": {},
   "source": [
    "## Sets vs. Lists (over time) Example of RUNTIME"
   ]
  },
  {
   "cell_type": "code",
   "execution_count": null,
   "metadata": {},
   "outputs": [],
   "source": [
    "# Set Comprehension - Same as list compehension, but with curly brackets {} instead of square brackets []\n",
    "\n",
    "\n",
    "small_set = {f for f in range(10)}\n",
    "print(small_set)"
   ]
  },
  {
   "cell_type": "code",
   "execution_count": null,
   "metadata": {},
   "outputs": [],
   "source": [
    "import time\n",
    "# generate fake set\n",
    "big_set = {i for i in range(10000000)}\n",
    "    \n",
    "\n",
    "# generate fake list\n",
    "big_list = [x for x in range(10000000)]"
   ]
  },
  {
   "cell_type": "code",
   "execution_count": null,
   "metadata": {},
   "outputs": [],
   "source": [
    "# tracking time for set\n",
    "start_time = time.time()\n",
    "\n",
    "print(9999999 in big_set)\n",
    "\n",
    "end_time = time.time()\n",
    "\n",
    "elapsed_time = end_time - start_time\n",
    "\n",
    "print(f'Elapsed time for set: {elapsed_time}')\n",
    "\n",
    "\n",
    "# tracking time for list\n",
    "start_time = time.time()\n",
    "\n",
    "print(9999999 in big_list)\n",
    "\n",
    "end_time = time.time()\n",
    "\n",
    "elapsed_time = end_time - start_time\n",
    "\n",
    "print(f'Elapsed time for list: {elapsed_time}')"
   ]
  },
  {
   "cell_type": "markdown",
   "metadata": {},
   "source": [
    "# Exercises"
   ]
  },
  {
   "cell_type": "markdown",
   "metadata": {},
   "source": [
    "### 1) Address Book\n",
    "\n",
    "\n",
    "Develop a user-friendly program that acts as an address book. The program should have the following functionalities:\n",
    "\n",
    "1. Upon starting the program, create an empty dictionary to store names and addresses.\n",
    "\n",
    "2. Allow the user to add people to the address book. For each entry, prompt the user to input a name and its corresponding address. Store these as key-value pairs in the dictionary.\n",
    "\n",
    "3. Provide a clear and straightforward menu for the user, including options to add a new entry or quit the program.\n",
    "\n",
    "4. Implement a loop that allows users to continue adding entries until they explicitly choose to quit.\n",
    "\n",
    "5. When the user decides to quit, break out of the loop and display the collected information. Print out the names and addresses of everyone in the address book in a well-formatted manner.\n",
    "\n",
    "6. Consider adding error handling to handle unexpected inputs gracefully. For instance, if the user provides invalid input when prompted for a name or address, handle the error and ask for the information again.\n",
    "\n",
    "7. Provide a user-friendly and informative message when the program terminates, summarizing the data entered and thanking the user for using the address book."
   ]
  },
  {
   "cell_type": "code",
   "execution_count": null,
   "metadata": {},
   "outputs": [
    {
     "name": "stdout",
     "output_type": "stream",
     "text": [
      "What would you like to do? add/modify/delete/view/quit add\n",
      "\n",
      "\n",
      "Whose address would you like to add? Harmony\n",
      "What is Harmony's address? 555 Trinity Drive\n",
      "\n",
      "\n",
      "What would you like to do? add/modify/delete/view/quit view\n",
      "\n",
      "\n",
      "\n",
      "\n",
      "**************************************************\n",
      "\tHarmony  \n",
      "\t555 Trinity Drive\n",
      "**************************************************\n",
      "\n",
      "\n",
      "What would you like to do? add/modify/delete/view/quit modify\n",
      "\n",
      "\n",
      "Whose address would you like to change? Harmony\n",
      "What is Harmony's address? 22 G Lane\n",
      "\n",
      "\n",
      "What would you like to do? add/modify/delete/view/quit modify\n",
      "\n",
      "\n",
      "Whose address would you like to change? Grace\n",
      "Grace is not in your address book. Please try again\n",
      "\n",
      "\n",
      "What would you like to do? add/modify/delete/view/quit view\n",
      "\n",
      "\n",
      "\n",
      "\n",
      "**************************************************\n",
      "\tHarmony  \n",
      "\t22 G Lane\n",
      "**************************************************\n",
      "\n",
      "\n",
      "What would you like to do? add/modify/delete/view/quit delete\n",
      "\n",
      "\n",
      "Whose name would you like to delete? Harmony\n",
      "Deleting entry can not be undone.  Are you sure? yes/no yes\n",
      "Harmony has been removed from your address book.\n",
      "\n",
      "What would you like to do? add/modify/delete/view/quit view\n",
      "\n",
      "\n",
      "\n",
      "\n",
      "\n",
      "\n",
      "What would you like to do? add/modify/delete/view/quit add\n",
      "\n",
      "\n",
      "Whose address would you like to add? Harmony\n",
      "What is Harmony's address? 22 Trinity Drive\n",
      "\n",
      "\n",
      "What would you like to do? add/modify/delete/view/quit \n",
      "\n",
      "\n",
      "Invalid entry.  Please try again\n",
      "What would you like to do? add/modify/delete/view/quit f\n",
      "\n",
      "\n",
      "Invalid entry.  Please try again\n",
      "What would you like to do? add/modify/delete/view/quit g\n",
      "\n",
      "\n",
      "Invalid entry.  Please try again\n",
      "What would you like to do? add/modify/delete/view/quit add\n",
      "\n",
      "\n",
      "Whose address would you like to add? Tim\n",
      "What is Tim's address? 3233 Sea Lane\n",
      "\n",
      "\n",
      "What would you like to do? add/modify/delete/view/quit view\n",
      "\n",
      "\n",
      "\n",
      "\n",
      "**************************************************\n",
      "\tHarmony  \n",
      "\t22 Trinity Drive\n",
      "**************************************************\n",
      "**************************************************\n",
      "\tTim  \n",
      "\t3233 Sea Lane\n",
      "**************************************************\n",
      "\n",
      "\n",
      "What would you like to do? add/modify/delete/view/quit Stefan\n",
      "\n",
      "\n",
      "Invalid entry.  Please try again\n",
      "What would you like to do? add/modify/delete/view/quit add\n",
      "\n",
      "\n",
      "Whose address would you like to add? Stefan\n",
      "What is Stefan's address? 1100 Turtle Road\n",
      "\n",
      "\n",
      "What would you like to do? add/modify/delete/view/quit view\n",
      "\n",
      "\n",
      "\n",
      "\n",
      "**************************************************\n",
      "\tHarmony  \n",
      "\t22 Trinity Drive\n",
      "**************************************************\n",
      "**************************************************\n",
      "\tTim  \n",
      "\t3233 Sea Lane\n",
      "**************************************************\n",
      "**************************************************\n",
      "\tStefan  \n",
      "\t1100 Turtle Road\n",
      "**************************************************\n",
      "\n",
      "\n"
     ]
    }
   ],
   "source": [
    "#Define the function\n",
    "def address_book():\n",
    "    #nested function to list address book\n",
    "    def view_book():\n",
    "        print('\\n')\n",
    "        for n, a in book.items():\n",
    "            print('*'*50)\n",
    "            print(f\"\\t{n.title()}  \\n\\t{a.title()}\")\n",
    "            print('*'*50)\n",
    "    #define an empty dictionary\n",
    "    book ={}\n",
    "    #Prompt user if they would like to add, modify, view, or quit. loop this option to add multiple entries with while loop\n",
    "    cont = True\n",
    "    while cont:\n",
    "        response = input('What would you like to do? add/modify/delete/view/quit ')\n",
    "        print('\\n')\n",
    "        #If user chooses 'add', take in inputs for name and address and insert into a dictionary as key/value\n",
    "        if response.lower() == 'add':\n",
    "            name = input('Whose address would you like to add? ').lower()\n",
    "            address = input(f\"What is {name.title()}'s address? \").lower()\n",
    "            book[name] = address\n",
    "            print('\\n')\n",
    "        #If user chooses 'modify', ask which entry by name and then modify the entry under that key\n",
    "        elif response.lower() == 'modify':\n",
    "            name = input('Whose address would you like to change? ').lower()\n",
    "            if name.lower() in book.keys():\n",
    "                address = input(f\"What is {name.title()}'s address? \").lower()\n",
    "                book[name] = address\n",
    "                print('\\n')\n",
    "            else:\n",
    "                print(f\"{name.title()} is not in your address book. Please try again\")\n",
    "                print('\\n')\n",
    "        #If user chooses delete, ask to confirm and remove name/address if yes\n",
    "        elif response.lower() == 'delete':\n",
    "            del_response = input('Whose name would you like to delete? ').lower()\n",
    "            if del_response in book.keys():\n",
    "                del_confirm = input('Deleting entry can not be undone.  Are you sure? yes/no ')\n",
    "                if del_confirm == 'yes':\n",
    "                    del book[del_response]\n",
    "                    print(f\"{del_response.title()} has been removed from your address book.\\n\")\n",
    "                elif del_confirm == 'no':\n",
    "                    print(f\"{del_response.title()} will not be removed from your address book\\n\")\n",
    "                else:\n",
    "                    print('Invalid entry.  Please try again\\n')\n",
    "            else:\n",
    "                print(f\"There is no entry for {del_response.title()} in your address book.\")\n",
    "        #If user chooses 'view', loop through dictionary and display formatted names and addresses using a nested function\n",
    "        elif response.lower() == 'view':\n",
    "            view_book()\n",
    "            print('\\n')\n",
    "        #If user chooses 'quit', run nested function to display names/addresses, then terminate program by setting while loop status to False\n",
    "        elif response.lower() == 'quit':\n",
    "            print('\\nThank you for using the address book. \\nHere are your entries:')\n",
    "            view_book()\n",
    "            cont = False\n",
    "        #If user enters invalid entry to prompt, tell them so and return to input prompt\n",
    "        else:\n",
    "            print('Invalid entry.  Please try again')\n",
    "    \n",
    "# Run Program\n",
    "address_book()"
   ]
  },
  {
   "cell_type": "code",
   "execution_count": null,
   "metadata": {},
   "outputs": [],
   "source": []
  },
  {
   "cell_type": "markdown",
   "metadata": {},
   "source": [
    "### 2) Best Time to Meet"
   ]
  },
  {
   "cell_type": "markdown",
   "metadata": {},
   "source": [
    "Billy is trying to figure out if there is a time that he and his team can meet to work on the project. His three teammates each give him a set of times they are available ('HH:MM' 24-hour). Create a function that will take in any number of sets of available times (*remember \\*args*) and return a set of times where everyone can meet."
   ]
  },
  {
   "cell_type": "code",
   "execution_count": null,
   "metadata": {},
   "outputs": [],
   "source": [
    "person1 = {'09:00', '10:30', '11:30', '12:00', '13:00', '14:30'}\n",
    "person2 = {'09:30', '10:00', '10:30', '12:00', '14:30', '16:00'}\n",
    "person3 = {'09:00', '09:30', '11:00', '11:30', '12:00', '13:30', '14:30', '15:00'}\n",
    "person4 = {'11:00', '11:30', '12:00', '14:00', '14:30', '16:30', '17:00'}\n",
    "# Available Times: '12:00' and '14:30'\n",
    "\n"
   ]
  },
  {
   "cell_type": "code",
   "execution_count": null,
   "metadata": {},
   "outputs": [],
   "source": [
    "def common_times(*avail_times):\n",
    "    common_times = set()\n",
    "    for time_arr in avail_times:\n",
    "        if len(common_times) == 0:\n",
    "            common_times = time_arr\n",
    "        else:\n",
    "            common_times = common_times & time_arr\n",
    "    return common_times\n",
    "\n",
    "print(common_times(person1, person2, person3, person4))"
   ]
  },
  {
   "cell_type": "code",
   "execution_count": null,
   "metadata": {},
   "outputs": [],
   "source": []
  }
 ],
 "metadata": {
  "kernelspec": {
   "display_name": "Python 3 (ipykernel)",
   "language": "python",
   "name": "python3"
  },
  "language_info": {
   "codemirror_mode": {
    "name": "ipython",
    "version": 3
   },
   "file_extension": ".py",
   "mimetype": "text/x-python",
   "name": "python",
   "nbconvert_exporter": "python",
   "pygments_lexer": "ipython3",
   "version": "3.11.5"
  }
 },
 "nbformat": 4,
 "nbformat_minor": 2
}
